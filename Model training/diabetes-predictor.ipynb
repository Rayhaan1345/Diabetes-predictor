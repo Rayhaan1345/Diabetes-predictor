{
 "cells": [
  {
   "cell_type": "code",
   "execution_count": 1,
   "id": "6e95d987",
   "metadata": {
    "_cell_guid": "b1076dfc-b9ad-4769-8c92-a6c4dae69d19",
    "_uuid": "8f2839f25d086af736a60e9eeb907d3b93b6e0e5",
    "execution": {
     "iopub.execute_input": "2024-05-20T11:47:50.121380Z",
     "iopub.status.busy": "2024-05-20T11:47:50.120542Z",
     "iopub.status.idle": "2024-05-20T11:47:51.158874Z",
     "shell.execute_reply": "2024-05-20T11:47:51.157720Z"
    },
    "papermill": {
     "duration": 1.052334,
     "end_time": "2024-05-20T11:47:51.161358",
     "exception": false,
     "start_time": "2024-05-20T11:47:50.109024",
     "status": "completed"
    },
    "tags": []
   },
   "outputs": [
    {
     "name": "stdout",
     "output_type": "stream",
     "text": [
      "/kaggle/input/pima-indians-diabetes-database/diabetes.csv\n"
     ]
    }
   ],
   "source": [
    "# This Python 3 environment comes with many helpful analytics libraries installed\n",
    "# It is defined by the kaggle/python Docker image: https://github.com/kaggle/docker-python\n",
    "# For example, here's several helpful packages to load\n",
    "\n",
    "import numpy as np # linear algebra\n",
    "import pandas as pd # data processing, CSV file I/O (e.g. pd.read_csv)\n",
    "\n",
    "# Input data files are available in the read-only \"../input/\" directory\n",
    "# For example, running this (by clicking run or pressing Shift+Enter) will list all files under the input directory\n",
    "\n",
    "import os\n",
    "for dirname, _, filenames in os.walk('/kaggle/input'):\n",
    "    for filename in filenames:\n",
    "        print(os.path.join(dirname, filename))\n",
    "\n",
    "# You can write up to 20GB to the current directory (/kaggle/working/) that gets preserved as output when you create a version using \"Save & Run All\" \n",
    "# You can also write temporary files to /kaggle/temp/, but they won't be saved outside of the current session"
   ]
  },
  {
   "cell_type": "code",
   "execution_count": 2,
   "id": "9cd7f73b",
   "metadata": {
    "execution": {
     "iopub.execute_input": "2024-05-20T11:47:51.182581Z",
     "iopub.status.busy": "2024-05-20T11:47:51.181644Z",
     "iopub.status.idle": "2024-05-20T11:47:59.098059Z",
     "shell.execute_reply": "2024-05-20T11:47:59.096764Z"
    },
    "papermill": {
     "duration": 7.930707,
     "end_time": "2024-05-20T11:47:59.101011",
     "exception": false,
     "start_time": "2024-05-20T11:47:51.170304",
     "status": "completed"
    },
    "tags": []
   },
   "outputs": [],
   "source": [
    "import pandas as pd\n",
    "import numpy as np\n",
    "import fastai\n",
    "import seaborn as sns\n",
    "\n",
    "from pathlib import Path\n",
    "from fastai.tabular.all import *\n",
    "from sklearn.metrics import r2_score"
   ]
  },
  {
   "cell_type": "code",
   "execution_count": 3,
   "id": "27896e45",
   "metadata": {
    "execution": {
     "iopub.execute_input": "2024-05-20T11:47:59.120458Z",
     "iopub.status.busy": "2024-05-20T11:47:59.119821Z",
     "iopub.status.idle": "2024-05-20T11:47:59.131381Z",
     "shell.execute_reply": "2024-05-20T11:47:59.130043Z"
    },
    "papermill": {
     "duration": 0.024304,
     "end_time": "2024-05-20T11:47:59.134008",
     "exception": false,
     "start_time": "2024-05-20T11:47:59.109704",
     "status": "completed"
    },
    "tags": []
   },
   "outputs": [
    {
     "data": {
      "text/plain": [
       "(#1) [Path('/kaggle/input/pima-indians-diabetes-database/diabetes.csv')]"
      ]
     },
     "execution_count": 3,
     "metadata": {},
     "output_type": "execute_result"
    }
   ],
   "source": [
    "path = Path('/kaggle/input/pima-indians-diabetes-database')\n",
    "path.ls()"
   ]
  },
  {
   "cell_type": "code",
   "execution_count": 4,
   "id": "810364c6",
   "metadata": {
    "execution": {
     "iopub.execute_input": "2024-05-20T11:47:59.154023Z",
     "iopub.status.busy": "2024-05-20T11:47:59.153205Z",
     "iopub.status.idle": "2024-05-20T11:47:59.198837Z",
     "shell.execute_reply": "2024-05-20T11:47:59.197513Z"
    },
    "papermill": {
     "duration": 0.058492,
     "end_time": "2024-05-20T11:47:59.201495",
     "exception": false,
     "start_time": "2024-05-20T11:47:59.143003",
     "status": "completed"
    },
    "tags": []
   },
   "outputs": [
    {
     "data": {
      "text/html": [
       "<div>\n",
       "<style scoped>\n",
       "    .dataframe tbody tr th:only-of-type {\n",
       "        vertical-align: middle;\n",
       "    }\n",
       "\n",
       "    .dataframe tbody tr th {\n",
       "        vertical-align: top;\n",
       "    }\n",
       "\n",
       "    .dataframe thead th {\n",
       "        text-align: right;\n",
       "    }\n",
       "</style>\n",
       "<table border=\"1\" class=\"dataframe\">\n",
       "  <thead>\n",
       "    <tr style=\"text-align: right;\">\n",
       "      <th></th>\n",
       "      <th>Pregnancies</th>\n",
       "      <th>Glucose</th>\n",
       "      <th>BloodPressure</th>\n",
       "      <th>SkinThickness</th>\n",
       "      <th>Insulin</th>\n",
       "      <th>BMI</th>\n",
       "      <th>DiabetesPedigreeFunction</th>\n",
       "      <th>Age</th>\n",
       "      <th>Outcome</th>\n",
       "    </tr>\n",
       "  </thead>\n",
       "  <tbody>\n",
       "    <tr>\n",
       "      <th>0</th>\n",
       "      <td>6</td>\n",
       "      <td>148</td>\n",
       "      <td>72</td>\n",
       "      <td>35</td>\n",
       "      <td>0</td>\n",
       "      <td>33.6</td>\n",
       "      <td>0.627</td>\n",
       "      <td>50</td>\n",
       "      <td>1</td>\n",
       "    </tr>\n",
       "    <tr>\n",
       "      <th>1</th>\n",
       "      <td>1</td>\n",
       "      <td>85</td>\n",
       "      <td>66</td>\n",
       "      <td>29</td>\n",
       "      <td>0</td>\n",
       "      <td>26.6</td>\n",
       "      <td>0.351</td>\n",
       "      <td>31</td>\n",
       "      <td>0</td>\n",
       "    </tr>\n",
       "    <tr>\n",
       "      <th>2</th>\n",
       "      <td>8</td>\n",
       "      <td>183</td>\n",
       "      <td>64</td>\n",
       "      <td>0</td>\n",
       "      <td>0</td>\n",
       "      <td>23.3</td>\n",
       "      <td>0.672</td>\n",
       "      <td>32</td>\n",
       "      <td>1</td>\n",
       "    </tr>\n",
       "    <tr>\n",
       "      <th>3</th>\n",
       "      <td>1</td>\n",
       "      <td>89</td>\n",
       "      <td>66</td>\n",
       "      <td>23</td>\n",
       "      <td>94</td>\n",
       "      <td>28.1</td>\n",
       "      <td>0.167</td>\n",
       "      <td>21</td>\n",
       "      <td>0</td>\n",
       "    </tr>\n",
       "    <tr>\n",
       "      <th>4</th>\n",
       "      <td>0</td>\n",
       "      <td>137</td>\n",
       "      <td>40</td>\n",
       "      <td>35</td>\n",
       "      <td>168</td>\n",
       "      <td>43.1</td>\n",
       "      <td>2.288</td>\n",
       "      <td>33</td>\n",
       "      <td>1</td>\n",
       "    </tr>\n",
       "    <tr>\n",
       "      <th>...</th>\n",
       "      <td>...</td>\n",
       "      <td>...</td>\n",
       "      <td>...</td>\n",
       "      <td>...</td>\n",
       "      <td>...</td>\n",
       "      <td>...</td>\n",
       "      <td>...</td>\n",
       "      <td>...</td>\n",
       "      <td>...</td>\n",
       "    </tr>\n",
       "    <tr>\n",
       "      <th>763</th>\n",
       "      <td>10</td>\n",
       "      <td>101</td>\n",
       "      <td>76</td>\n",
       "      <td>48</td>\n",
       "      <td>180</td>\n",
       "      <td>32.9</td>\n",
       "      <td>0.171</td>\n",
       "      <td>63</td>\n",
       "      <td>0</td>\n",
       "    </tr>\n",
       "    <tr>\n",
       "      <th>764</th>\n",
       "      <td>2</td>\n",
       "      <td>122</td>\n",
       "      <td>70</td>\n",
       "      <td>27</td>\n",
       "      <td>0</td>\n",
       "      <td>36.8</td>\n",
       "      <td>0.340</td>\n",
       "      <td>27</td>\n",
       "      <td>0</td>\n",
       "    </tr>\n",
       "    <tr>\n",
       "      <th>765</th>\n",
       "      <td>5</td>\n",
       "      <td>121</td>\n",
       "      <td>72</td>\n",
       "      <td>23</td>\n",
       "      <td>112</td>\n",
       "      <td>26.2</td>\n",
       "      <td>0.245</td>\n",
       "      <td>30</td>\n",
       "      <td>0</td>\n",
       "    </tr>\n",
       "    <tr>\n",
       "      <th>766</th>\n",
       "      <td>1</td>\n",
       "      <td>126</td>\n",
       "      <td>60</td>\n",
       "      <td>0</td>\n",
       "      <td>0</td>\n",
       "      <td>30.1</td>\n",
       "      <td>0.349</td>\n",
       "      <td>47</td>\n",
       "      <td>1</td>\n",
       "    </tr>\n",
       "    <tr>\n",
       "      <th>767</th>\n",
       "      <td>1</td>\n",
       "      <td>93</td>\n",
       "      <td>70</td>\n",
       "      <td>31</td>\n",
       "      <td>0</td>\n",
       "      <td>30.4</td>\n",
       "      <td>0.315</td>\n",
       "      <td>23</td>\n",
       "      <td>0</td>\n",
       "    </tr>\n",
       "  </tbody>\n",
       "</table>\n",
       "<p>768 rows × 9 columns</p>\n",
       "</div>"
      ],
      "text/plain": [
       "     Pregnancies  Glucose  BloodPressure  SkinThickness  Insulin   BMI  \\\n",
       "0              6      148             72             35        0  33.6   \n",
       "1              1       85             66             29        0  26.6   \n",
       "2              8      183             64              0        0  23.3   \n",
       "3              1       89             66             23       94  28.1   \n",
       "4              0      137             40             35      168  43.1   \n",
       "..           ...      ...            ...            ...      ...   ...   \n",
       "763           10      101             76             48      180  32.9   \n",
       "764            2      122             70             27        0  36.8   \n",
       "765            5      121             72             23      112  26.2   \n",
       "766            1      126             60              0        0  30.1   \n",
       "767            1       93             70             31        0  30.4   \n",
       "\n",
       "     DiabetesPedigreeFunction  Age  Outcome  \n",
       "0                       0.627   50        1  \n",
       "1                       0.351   31        0  \n",
       "2                       0.672   32        1  \n",
       "3                       0.167   21        0  \n",
       "4                       2.288   33        1  \n",
       "..                        ...  ...      ...  \n",
       "763                     0.171   63        0  \n",
       "764                     0.340   27        0  \n",
       "765                     0.245   30        0  \n",
       "766                     0.349   47        1  \n",
       "767                     0.315   23        0  \n",
       "\n",
       "[768 rows x 9 columns]"
      ]
     },
     "execution_count": 4,
     "metadata": {},
     "output_type": "execute_result"
    }
   ],
   "source": [
    "train = pd.read_csv(path/'diabetes.csv')\n",
    "train\n"
   ]
  },
  {
   "cell_type": "code",
   "execution_count": 5,
   "id": "f87e439f",
   "metadata": {
    "execution": {
     "iopub.execute_input": "2024-05-20T11:47:59.222349Z",
     "iopub.status.busy": "2024-05-20T11:47:59.221882Z",
     "iopub.status.idle": "2024-05-20T11:47:59.239298Z",
     "shell.execute_reply": "2024-05-20T11:47:59.238076Z"
    },
    "papermill": {
     "duration": 0.030698,
     "end_time": "2024-05-20T11:47:59.241742",
     "exception": false,
     "start_time": "2024-05-20T11:47:59.211044",
     "status": "completed"
    },
    "tags": []
   },
   "outputs": [
    {
     "data": {
      "text/html": [
       "<div>\n",
       "<style scoped>\n",
       "    .dataframe tbody tr th:only-of-type {\n",
       "        vertical-align: middle;\n",
       "    }\n",
       "\n",
       "    .dataframe tbody tr th {\n",
       "        vertical-align: top;\n",
       "    }\n",
       "\n",
       "    .dataframe thead th {\n",
       "        text-align: right;\n",
       "    }\n",
       "</style>\n",
       "<table border=\"1\" class=\"dataframe\">\n",
       "  <thead>\n",
       "    <tr style=\"text-align: right;\">\n",
       "      <th></th>\n",
       "      <th>0</th>\n",
       "      <th>1</th>\n",
       "      <th>2</th>\n",
       "      <th>3</th>\n",
       "      <th>4</th>\n",
       "    </tr>\n",
       "  </thead>\n",
       "  <tbody>\n",
       "    <tr>\n",
       "      <th>Pregnancies</th>\n",
       "      <td>6.000</td>\n",
       "      <td>1.000</td>\n",
       "      <td>8.000</td>\n",
       "      <td>1.000</td>\n",
       "      <td>0.000</td>\n",
       "    </tr>\n",
       "    <tr>\n",
       "      <th>Glucose</th>\n",
       "      <td>148.000</td>\n",
       "      <td>85.000</td>\n",
       "      <td>183.000</td>\n",
       "      <td>89.000</td>\n",
       "      <td>137.000</td>\n",
       "    </tr>\n",
       "    <tr>\n",
       "      <th>BloodPressure</th>\n",
       "      <td>72.000</td>\n",
       "      <td>66.000</td>\n",
       "      <td>64.000</td>\n",
       "      <td>66.000</td>\n",
       "      <td>40.000</td>\n",
       "    </tr>\n",
       "    <tr>\n",
       "      <th>SkinThickness</th>\n",
       "      <td>35.000</td>\n",
       "      <td>29.000</td>\n",
       "      <td>0.000</td>\n",
       "      <td>23.000</td>\n",
       "      <td>35.000</td>\n",
       "    </tr>\n",
       "    <tr>\n",
       "      <th>Insulin</th>\n",
       "      <td>0.000</td>\n",
       "      <td>0.000</td>\n",
       "      <td>0.000</td>\n",
       "      <td>94.000</td>\n",
       "      <td>168.000</td>\n",
       "    </tr>\n",
       "    <tr>\n",
       "      <th>BMI</th>\n",
       "      <td>33.600</td>\n",
       "      <td>26.600</td>\n",
       "      <td>23.300</td>\n",
       "      <td>28.100</td>\n",
       "      <td>43.100</td>\n",
       "    </tr>\n",
       "    <tr>\n",
       "      <th>DiabetesPedigreeFunction</th>\n",
       "      <td>0.627</td>\n",
       "      <td>0.351</td>\n",
       "      <td>0.672</td>\n",
       "      <td>0.167</td>\n",
       "      <td>2.288</td>\n",
       "    </tr>\n",
       "    <tr>\n",
       "      <th>Age</th>\n",
       "      <td>50.000</td>\n",
       "      <td>31.000</td>\n",
       "      <td>32.000</td>\n",
       "      <td>21.000</td>\n",
       "      <td>33.000</td>\n",
       "    </tr>\n",
       "    <tr>\n",
       "      <th>Outcome</th>\n",
       "      <td>1.000</td>\n",
       "      <td>0.000</td>\n",
       "      <td>1.000</td>\n",
       "      <td>0.000</td>\n",
       "      <td>1.000</td>\n",
       "    </tr>\n",
       "  </tbody>\n",
       "</table>\n",
       "</div>"
      ],
      "text/plain": [
       "                                0       1        2       3        4\n",
       "Pregnancies                 6.000   1.000    8.000   1.000    0.000\n",
       "Glucose                   148.000  85.000  183.000  89.000  137.000\n",
       "BloodPressure              72.000  66.000   64.000  66.000   40.000\n",
       "SkinThickness              35.000  29.000    0.000  23.000   35.000\n",
       "Insulin                     0.000   0.000    0.000  94.000  168.000\n",
       "BMI                        33.600  26.600   23.300  28.100   43.100\n",
       "DiabetesPedigreeFunction    0.627   0.351    0.672   0.167    2.288\n",
       "Age                        50.000  31.000   32.000  21.000   33.000\n",
       "Outcome                     1.000   0.000    1.000   0.000    1.000"
      ]
     },
     "execution_count": 5,
     "metadata": {},
     "output_type": "execute_result"
    }
   ],
   "source": [
    "train.head().T"
   ]
  },
  {
   "cell_type": "code",
   "execution_count": 6,
   "id": "c807928e",
   "metadata": {
    "execution": {
     "iopub.execute_input": "2024-05-20T11:47:59.263101Z",
     "iopub.status.busy": "2024-05-20T11:47:59.262701Z",
     "iopub.status.idle": "2024-05-20T11:47:59.302787Z",
     "shell.execute_reply": "2024-05-20T11:47:59.301636Z"
    },
    "papermill": {
     "duration": 0.054173,
     "end_time": "2024-05-20T11:47:59.305605",
     "exception": false,
     "start_time": "2024-05-20T11:47:59.251432",
     "status": "completed"
    },
    "tags": []
   },
   "outputs": [],
   "source": [
    "splits = RandomSplitter(valid_pct=0.2)(range_of(train))\n"
   ]
  },
  {
   "cell_type": "code",
   "execution_count": 7,
   "id": "b3ff1ea9",
   "metadata": {
    "execution": {
     "iopub.execute_input": "2024-05-20T11:47:59.326572Z",
     "iopub.status.busy": "2024-05-20T11:47:59.326175Z",
     "iopub.status.idle": "2024-05-20T11:47:59.333053Z",
     "shell.execute_reply": "2024-05-20T11:47:59.331705Z"
    },
    "papermill": {
     "duration": 0.020336,
     "end_time": "2024-05-20T11:47:59.335563",
     "exception": false,
     "start_time": "2024-05-20T11:47:59.315227",
     "status": "completed"
    },
    "tags": []
   },
   "outputs": [],
   "source": [
    "y_names = ['Outcome']\n",
    "cont_names = ['Glucose', 'BloodPressure','SkinThickness', 'Insulin', 'BMI', 'DiabetesPedigreeFunction']\n",
    "cat_names = ['Age','Pregnancies']\n",
    "procs = [Categorify, FillMissing, Normalize]\n",
    "y_block = RegressionBlock()"
   ]
  },
  {
   "cell_type": "code",
   "execution_count": 8,
   "id": "7bc3fe65",
   "metadata": {
    "execution": {
     "iopub.execute_input": "2024-05-20T11:47:59.356746Z",
     "iopub.status.busy": "2024-05-20T11:47:59.356356Z",
     "iopub.status.idle": "2024-05-20T11:47:59.399027Z",
     "shell.execute_reply": "2024-05-20T11:47:59.397688Z"
    },
    "papermill": {
     "duration": 0.056768,
     "end_time": "2024-05-20T11:47:59.401968",
     "exception": false,
     "start_time": "2024-05-20T11:47:59.345200",
     "status": "completed"
    },
    "tags": []
   },
   "outputs": [],
   "source": [
    "db = TabularPandas(train, procs=procs, cat_names=cat_names, cont_names=cont_names,\n",
    "                   y_names=y_names, y_block=y_block, splits=splits)"
   ]
  },
  {
   "cell_type": "code",
   "execution_count": 9,
   "id": "3847e1c1",
   "metadata": {
    "execution": {
     "iopub.execute_input": "2024-05-20T11:47:59.422882Z",
     "iopub.status.busy": "2024-05-20T11:47:59.422499Z",
     "iopub.status.idle": "2024-05-20T11:47:59.459689Z",
     "shell.execute_reply": "2024-05-20T11:47:59.458362Z"
    },
    "papermill": {
     "duration": 0.050805,
     "end_time": "2024-05-20T11:47:59.462349",
     "exception": false,
     "start_time": "2024-05-20T11:47:59.411544",
     "status": "completed"
    },
    "tags": []
   },
   "outputs": [],
   "source": [
    "dls = db.dataloaders(bs=128)"
   ]
  },
  {
   "cell_type": "code",
   "execution_count": 10,
   "id": "10b32216",
   "metadata": {
    "execution": {
     "iopub.execute_input": "2024-05-20T11:47:59.484557Z",
     "iopub.status.busy": "2024-05-20T11:47:59.484101Z",
     "iopub.status.idle": "2024-05-20T11:47:59.528345Z",
     "shell.execute_reply": "2024-05-20T11:47:59.527413Z"
    },
    "papermill": {
     "duration": 0.057711,
     "end_time": "2024-05-20T11:47:59.530842",
     "exception": false,
     "start_time": "2024-05-20T11:47:59.473131",
     "status": "completed"
    },
    "tags": []
   },
   "outputs": [
    {
     "data": {
      "text/html": [
       "<table border=\"1\" class=\"dataframe\">\n",
       "  <thead>\n",
       "    <tr style=\"text-align: right;\">\n",
       "      <th></th>\n",
       "      <th>Age</th>\n",
       "      <th>Pregnancies</th>\n",
       "      <th>Glucose</th>\n",
       "      <th>BloodPressure</th>\n",
       "      <th>SkinThickness</th>\n",
       "      <th>Insulin</th>\n",
       "      <th>BMI</th>\n",
       "      <th>DiabetesPedigreeFunction</th>\n",
       "      <th>Outcome</th>\n",
       "    </tr>\n",
       "  </thead>\n",
       "  <tbody>\n",
       "    <tr>\n",
       "      <th>0</th>\n",
       "      <td>22</td>\n",
       "      <td>0</td>\n",
       "      <td>93.000000</td>\n",
       "      <td>60.000000</td>\n",
       "      <td>2.500000e+01</td>\n",
       "      <td>9.200000e+01</td>\n",
       "      <td>28.700001</td>\n",
       "      <td>0.532</td>\n",
       "      <td>0.0</td>\n",
       "    </tr>\n",
       "    <tr>\n",
       "      <th>1</th>\n",
       "      <td>22</td>\n",
       "      <td>1</td>\n",
       "      <td>78.999998</td>\n",
       "      <td>75.000000</td>\n",
       "      <td>3.000000e+01</td>\n",
       "      <td>5.013207e-07</td>\n",
       "      <td>32.000000</td>\n",
       "      <td>0.396</td>\n",
       "      <td>0.0</td>\n",
       "    </tr>\n",
       "    <tr>\n",
       "      <th>2</th>\n",
       "      <td>31</td>\n",
       "      <td>1</td>\n",
       "      <td>84.999999</td>\n",
       "      <td>66.000000</td>\n",
       "      <td>2.900000e+01</td>\n",
       "      <td>5.013207e-07</td>\n",
       "      <td>26.600000</td>\n",
       "      <td>0.351</td>\n",
       "      <td>0.0</td>\n",
       "    </tr>\n",
       "    <tr>\n",
       "      <th>3</th>\n",
       "      <td>41</td>\n",
       "      <td>7</td>\n",
       "      <td>186.999999</td>\n",
       "      <td>68.000000</td>\n",
       "      <td>3.900000e+01</td>\n",
       "      <td>3.040000e+02</td>\n",
       "      <td>37.700001</td>\n",
       "      <td>0.254</td>\n",
       "      <td>1.0</td>\n",
       "    </tr>\n",
       "    <tr>\n",
       "      <th>4</th>\n",
       "      <td>28</td>\n",
       "      <td>1</td>\n",
       "      <td>125.000000</td>\n",
       "      <td>49.999999</td>\n",
       "      <td>4.000000e+01</td>\n",
       "      <td>1.670000e+02</td>\n",
       "      <td>33.299999</td>\n",
       "      <td>0.962</td>\n",
       "      <td>1.0</td>\n",
       "    </tr>\n",
       "    <tr>\n",
       "      <th>5</th>\n",
       "      <td>26</td>\n",
       "      <td>3</td>\n",
       "      <td>99.000000</td>\n",
       "      <td>62.000000</td>\n",
       "      <td>1.900000e+01</td>\n",
       "      <td>7.400000e+01</td>\n",
       "      <td>21.799999</td>\n",
       "      <td>0.279</td>\n",
       "      <td>0.0</td>\n",
       "    </tr>\n",
       "    <tr>\n",
       "      <th>6</th>\n",
       "      <td>23</td>\n",
       "      <td>1</td>\n",
       "      <td>109.000000</td>\n",
       "      <td>56.000000</td>\n",
       "      <td>2.100000e+01</td>\n",
       "      <td>1.350000e+02</td>\n",
       "      <td>25.200001</td>\n",
       "      <td>0.833</td>\n",
       "      <td>0.0</td>\n",
       "    </tr>\n",
       "    <tr>\n",
       "      <th>7</th>\n",
       "      <td>31</td>\n",
       "      <td>7</td>\n",
       "      <td>103.000000</td>\n",
       "      <td>66.000000</td>\n",
       "      <td>3.200000e+01</td>\n",
       "      <td>5.013207e-07</td>\n",
       "      <td>39.099998</td>\n",
       "      <td>0.344</td>\n",
       "      <td>1.0</td>\n",
       "    </tr>\n",
       "    <tr>\n",
       "      <th>8</th>\n",
       "      <td>27</td>\n",
       "      <td>3</td>\n",
       "      <td>106.000000</td>\n",
       "      <td>72.000000</td>\n",
       "      <td>8.463990e-07</td>\n",
       "      <td>5.013207e-07</td>\n",
       "      <td>25.799999</td>\n",
       "      <td>0.207</td>\n",
       "      <td>0.0</td>\n",
       "    </tr>\n",
       "    <tr>\n",
       "      <th>9</th>\n",
       "      <td>26</td>\n",
       "      <td>0</td>\n",
       "      <td>100.999999</td>\n",
       "      <td>76.000000</td>\n",
       "      <td>8.463990e-07</td>\n",
       "      <td>5.013207e-07</td>\n",
       "      <td>35.700001</td>\n",
       "      <td>0.198</td>\n",
       "      <td>0.0</td>\n",
       "    </tr>\n",
       "  </tbody>\n",
       "</table>"
      ],
      "text/plain": [
       "<IPython.core.display.HTML object>"
      ]
     },
     "metadata": {},
     "output_type": "display_data"
    }
   ],
   "source": [
    "dls.show_batch()"
   ]
  },
  {
   "cell_type": "code",
   "execution_count": 11,
   "id": "2b5c7695",
   "metadata": {
    "execution": {
     "iopub.execute_input": "2024-05-20T11:47:59.552228Z",
     "iopub.status.busy": "2024-05-20T11:47:59.551814Z",
     "iopub.status.idle": "2024-05-20T11:47:59.560566Z",
     "shell.execute_reply": "2024-05-20T11:47:59.559246Z"
    },
    "papermill": {
     "duration": 0.022314,
     "end_time": "2024-05-20T11:47:59.562983",
     "exception": false,
     "start_time": "2024-05-20T11:47:59.540669",
     "status": "completed"
    },
    "tags": []
   },
   "outputs": [
    {
     "data": {
      "text/plain": [
       "1.2"
      ]
     },
     "execution_count": 11,
     "metadata": {},
     "output_type": "execute_result"
    }
   ],
   "source": [
    "max_log_y = np.max(train['Outcome'])*1.2\n",
    "max_log_y"
   ]
  },
  {
   "cell_type": "code",
   "execution_count": 12,
   "id": "5cd9e85a",
   "metadata": {
    "execution": {
     "iopub.execute_input": "2024-05-20T11:47:59.585320Z",
     "iopub.status.busy": "2024-05-20T11:47:59.584246Z",
     "iopub.status.idle": "2024-05-20T11:47:59.637808Z",
     "shell.execute_reply": "2024-05-20T11:47:59.636596Z"
    },
    "papermill": {
     "duration": 0.067166,
     "end_time": "2024-05-20T11:47:59.640218",
     "exception": false,
     "start_time": "2024-05-20T11:47:59.573052",
     "status": "completed"
    },
    "tags": []
   },
   "outputs": [
    {
     "data": {
      "text/plain": [
       "tensor([0.0000, 1.2000], dtype=torch.float64)"
      ]
     },
     "execution_count": 12,
     "metadata": {},
     "output_type": "execute_result"
    }
   ],
   "source": [
    "y_range = torch.tensor([0, max_log_y]); y_range"
   ]
  },
  {
   "cell_type": "code",
   "execution_count": 13,
   "id": "4fbb2f65",
   "metadata": {
    "execution": {
     "iopub.execute_input": "2024-05-20T11:47:59.662743Z",
     "iopub.status.busy": "2024-05-20T11:47:59.662315Z",
     "iopub.status.idle": "2024-05-20T11:47:59.689769Z",
     "shell.execute_reply": "2024-05-20T11:47:59.688735Z"
    },
    "jupyter": {
     "source_hidden": true
    },
    "papermill": {
     "duration": 0.041649,
     "end_time": "2024-05-20T11:47:59.692481",
     "exception": false,
     "start_time": "2024-05-20T11:47:59.650832",
     "status": "completed"
    },
    "tags": []
   },
   "outputs": [],
   "source": [
    "tc = tabular_config(ps=[0.001, 0.01], embed_p=0.04, y_range=y_range)\n",
    "learn = tabular_learner(dls, layers=[200,100],\n",
    "                        metrics=exp_rmspe,\n",
    "                        config=tc,\n",
    "                        loss_func=MSELossFlat())"
   ]
  },
  {
   "cell_type": "code",
   "execution_count": 14,
   "id": "c427a24c",
   "metadata": {
    "execution": {
     "iopub.execute_input": "2024-05-20T11:47:59.715184Z",
     "iopub.status.busy": "2024-05-20T11:47:59.714368Z",
     "iopub.status.idle": "2024-05-20T11:47:59.782200Z",
     "shell.execute_reply": "2024-05-20T11:47:59.780847Z"
    },
    "papermill": {
     "duration": 0.08195,
     "end_time": "2024-05-20T11:47:59.784709",
     "exception": false,
     "start_time": "2024-05-20T11:47:59.702759",
     "status": "completed"
    },
    "tags": []
   },
   "outputs": [
    {
     "data": {
      "text/html": [
       "\n",
       "<style>\n",
       "    /* Turns off some styling */\n",
       "    progress {\n",
       "        /* gets rid of default border in Firefox and Opera. */\n",
       "        border: none;\n",
       "        /* Needs to be in here for Safari polyfill so background images work as expected. */\n",
       "        background-size: auto;\n",
       "    }\n",
       "    progress:not([value]), progress:not([value])::-webkit-progress-bar {\n",
       "        background: repeating-linear-gradient(45deg, #7e7e7e, #7e7e7e 10px, #5c5c5c 10px, #5c5c5c 20px);\n",
       "    }\n",
       "    .progress-bar-interrupted, .progress-bar-interrupted::-webkit-progress-bar {\n",
       "        background: #F44336;\n",
       "    }\n",
       "</style>\n"
      ],
      "text/plain": [
       "<IPython.core.display.HTML object>"
      ]
     },
     "metadata": {},
     "output_type": "display_data"
    },
    {
     "data": {
      "text/html": [],
      "text/plain": [
       "<IPython.core.display.HTML object>"
      ]
     },
     "metadata": {},
     "output_type": "display_data"
    },
    {
     "data": {
      "text/plain": [
       "TabularModel (Input shape: 128 x 2)\n",
       "============================================================================\n",
       "Layer (type)         Output Shape         Param #    Trainable \n",
       "============================================================================\n",
       "                     128 x 15            \n",
       "Embedding                                 780        True      \n",
       "____________________________________________________________________________\n",
       "                     128 x 8             \n",
       "Embedding                                 144        True      \n",
       "Dropout                                                        \n",
       "BatchNorm1d                               12         True      \n",
       "____________________________________________________________________________\n",
       "                     128 x 200           \n",
       "Linear                                    5800       True      \n",
       "ReLU                                                           \n",
       "BatchNorm1d                               400        True      \n",
       "Dropout                                                        \n",
       "____________________________________________________________________________\n",
       "                     128 x 100           \n",
       "Linear                                    20000      True      \n",
       "ReLU                                                           \n",
       "BatchNorm1d                               200        True      \n",
       "Dropout                                                        \n",
       "____________________________________________________________________________\n",
       "                     128 x 1             \n",
       "Linear                                    101        True      \n",
       "SigmoidRange                                                   \n",
       "____________________________________________________________________________\n",
       "\n",
       "Total params: 27,437\n",
       "Total trainable params: 27,437\n",
       "Total non-trainable params: 0\n",
       "\n",
       "Optimizer used: <function Adam at 0x7da90f7ff640>\n",
       "Loss function: FlattenedLoss of MSELoss()\n",
       "\n",
       "Callbacks:\n",
       "  - TrainEvalCallback\n",
       "  - CastToTensor\n",
       "  - Recorder\n",
       "  - ProgressCallback"
      ]
     },
     "execution_count": 14,
     "metadata": {},
     "output_type": "execute_result"
    }
   ],
   "source": [
    "learn.summary()"
   ]
  },
  {
   "cell_type": "code",
   "execution_count": 15,
   "id": "3cef2bee",
   "metadata": {
    "execution": {
     "iopub.execute_input": "2024-05-20T11:47:59.809528Z",
     "iopub.status.busy": "2024-05-20T11:47:59.809102Z",
     "iopub.status.idle": "2024-05-20T11:48:02.604981Z",
     "shell.execute_reply": "2024-05-20T11:48:02.603686Z"
    },
    "papermill": {
     "duration": 2.811633,
     "end_time": "2024-05-20T11:48:02.607771",
     "exception": false,
     "start_time": "2024-05-20T11:47:59.796138",
     "status": "completed"
    },
    "tags": []
   },
   "outputs": [
    {
     "data": {
      "text/html": [
       "\n",
       "<style>\n",
       "    /* Turns off some styling */\n",
       "    progress {\n",
       "        /* gets rid of default border in Firefox and Opera. */\n",
       "        border: none;\n",
       "        /* Needs to be in here for Safari polyfill so background images work as expected. */\n",
       "        background-size: auto;\n",
       "    }\n",
       "    progress:not([value]), progress:not([value])::-webkit-progress-bar {\n",
       "        background: repeating-linear-gradient(45deg, #7e7e7e, #7e7e7e 10px, #5c5c5c 10px, #5c5c5c 20px);\n",
       "    }\n",
       "    .progress-bar-interrupted, .progress-bar-interrupted::-webkit-progress-bar {\n",
       "        background: #F44336;\n",
       "    }\n",
       "</style>\n"
      ],
      "text/plain": [
       "<IPython.core.display.HTML object>"
      ]
     },
     "metadata": {},
     "output_type": "display_data"
    },
    {
     "data": {
      "text/html": [],
      "text/plain": [
       "<IPython.core.display.HTML object>"
      ]
     },
     "metadata": {},
     "output_type": "display_data"
    },
    {
     "data": {
      "image/png": "[encoded data removed]",
      "text/plain": [
       "<Figure size 640x480 with 1 Axes>"
      ]
     },
     "metadata": {},
     "output_type": "display_data"
    }
   ],
   "source": [
    "suggest_funcs = (minimum, steep, valley, slide)\n",
    "\n",
    "lrs = learn.lr_find(suggest_funcs=suggest_funcs)"
   ]
  },
  {
   "cell_type": "code",
   "execution_count": 16,
   "id": "cebfbbfb",
   "metadata": {
    "execution": {
     "iopub.execute_input": "2024-05-20T11:48:02.634465Z",
     "iopub.status.busy": "2024-05-20T11:48:02.633718Z",
     "iopub.status.idle": "2024-05-20T11:48:03.576254Z",
     "shell.execute_reply": "2024-05-20T11:48:03.575084Z"
    },
    "papermill": {
     "duration": 0.958577,
     "end_time": "2024-05-20T11:48:03.578860",
     "exception": false,
     "start_time": "2024-05-20T11:48:02.620283",
     "status": "completed"
    },
    "tags": []
   },
   "outputs": [
    {
     "data": {
      "text/html": [
       "\n",
       "<style>\n",
       "    /* Turns off some styling */\n",
       "    progress {\n",
       "        /* gets rid of default border in Firefox and Opera. */\n",
       "        border: none;\n",
       "        /* Needs to be in here for Safari polyfill so background images work as expected. */\n",
       "        background-size: auto;\n",
       "    }\n",
       "    progress:not([value]), progress:not([value])::-webkit-progress-bar {\n",
       "        background: repeating-linear-gradient(45deg, #7e7e7e, #7e7e7e 10px, #5c5c5c 10px, #5c5c5c 20px);\n",
       "    }\n",
       "    .progress-bar-interrupted, .progress-bar-interrupted::-webkit-progress-bar {\n",
       "        background: #F44336;\n",
       "    }\n",
       "</style>\n"
      ],
      "text/plain": [
       "<IPython.core.display.HTML object>"
      ]
     },
     "metadata": {},
     "output_type": "display_data"
    },
    {
     "data": {
      "text/html": [
       "<table border=\"1\" class=\"dataframe\">\n",
       "  <thead>\n",
       "    <tr style=\"text-align: left;\">\n",
       "      <th>epoch</th>\n",
       "      <th>train_loss</th>\n",
       "      <th>valid_loss</th>\n",
       "      <th>_exp_rmspe</th>\n",
       "      <th>time</th>\n",
       "    </tr>\n",
       "  </thead>\n",
       "  <tbody>\n",
       "    <tr>\n",
       "      <td>0</td>\n",
       "      <td>0.305970</td>\n",
       "      <td>0.286478</td>\n",
       "      <td>0.687703</td>\n",
       "      <td>00:00</td>\n",
       "    </tr>\n",
       "    <tr>\n",
       "      <td>1</td>\n",
       "      <td>0.261481</td>\n",
       "      <td>0.260445</td>\n",
       "      <td>0.653188</td>\n",
       "      <td>00:00</td>\n",
       "    </tr>\n",
       "    <tr>\n",
       "      <td>2</td>\n",
       "      <td>0.235159</td>\n",
       "      <td>0.239806</td>\n",
       "      <td>0.622647</td>\n",
       "      <td>00:00</td>\n",
       "    </tr>\n",
       "    <tr>\n",
       "      <td>3</td>\n",
       "      <td>0.219471</td>\n",
       "      <td>0.225269</td>\n",
       "      <td>0.592170</td>\n",
       "      <td>00:00</td>\n",
       "    </tr>\n",
       "    <tr>\n",
       "      <td>4</td>\n",
       "      <td>0.207471</td>\n",
       "      <td>0.212682</td>\n",
       "      <td>0.578604</td>\n",
       "      <td>00:00</td>\n",
       "    </tr>\n",
       "    <tr>\n",
       "      <td>5</td>\n",
       "      <td>0.195809</td>\n",
       "      <td>0.203319</td>\n",
       "      <td>0.572850</td>\n",
       "      <td>00:00</td>\n",
       "    </tr>\n",
       "    <tr>\n",
       "      <td>6</td>\n",
       "      <td>0.185421</td>\n",
       "      <td>0.200830</td>\n",
       "      <td>0.565117</td>\n",
       "      <td>00:00</td>\n",
       "    </tr>\n",
       "    <tr>\n",
       "      <td>7</td>\n",
       "      <td>0.178575</td>\n",
       "      <td>0.200786</td>\n",
       "      <td>0.562419</td>\n",
       "      <td>00:00</td>\n",
       "    </tr>\n",
       "    <tr>\n",
       "      <td>8</td>\n",
       "      <td>0.171102</td>\n",
       "      <td>0.202894</td>\n",
       "      <td>0.571638</td>\n",
       "      <td>00:00</td>\n",
       "    </tr>\n",
       "    <tr>\n",
       "      <td>9</td>\n",
       "      <td>0.164985</td>\n",
       "      <td>0.208269</td>\n",
       "      <td>0.591094</td>\n",
       "      <td>00:00</td>\n",
       "    </tr>\n",
       "    <tr>\n",
       "      <td>10</td>\n",
       "      <td>0.159444</td>\n",
       "      <td>0.213873</td>\n",
       "      <td>0.610338</td>\n",
       "      <td>00:00</td>\n",
       "    </tr>\n",
       "  </tbody>\n",
       "</table>"
      ],
      "text/plain": [
       "<IPython.core.display.HTML object>"
      ]
     },
     "metadata": {},
     "output_type": "display_data"
    }
   ],
   "source": [
    "learn.fit_one_cycle(11, 0.005)"
   ]
  },
  {
   "cell_type": "markdown",
   "id": "6ff59f6f",
   "metadata": {
    "papermill": {
     "duration": 0.011748,
     "end_time": "2024-05-20T11:48:03.603150",
     "exception": false,
     "start_time": "2024-05-20T11:48:03.591402",
     "status": "completed"
    },
    "tags": []
   },
   "source": []
  },
  {
   "cell_type": "code",
   "execution_count": 17,
   "id": "9f55df71",
   "metadata": {
    "execution": {
     "iopub.execute_input": "2024-05-20T11:48:03.629363Z",
     "iopub.status.busy": "2024-05-20T11:48:03.628890Z",
     "iopub.status.idle": "2024-05-20T11:48:03.675120Z",
     "shell.execute_reply": "2024-05-20T11:48:03.673790Z"
    },
    "papermill": {
     "duration": 0.062879,
     "end_time": "2024-05-20T11:48:03.678023",
     "exception": false,
     "start_time": "2024-05-20T11:48:03.615144",
     "status": "completed"
    },
    "tags": []
   },
   "outputs": [
    {
     "data": {
      "text/html": [
       "\n",
       "<style>\n",
       "    /* Turns off some styling */\n",
       "    progress {\n",
       "        /* gets rid of default border in Firefox and Opera. */\n",
       "        border: none;\n",
       "        /* Needs to be in here for Safari polyfill so background images work as expected. */\n",
       "        background-size: auto;\n",
       "    }\n",
       "    progress:not([value]), progress:not([value])::-webkit-progress-bar {\n",
       "        background: repeating-linear-gradient(45deg, #7e7e7e, #7e7e7e 10px, #5c5c5c 10px, #5c5c5c 20px);\n",
       "    }\n",
       "    .progress-bar-interrupted, .progress-bar-interrupted::-webkit-progress-bar {\n",
       "        background: #F44336;\n",
       "    }\n",
       "</style>\n"
      ],
      "text/plain": [
       "<IPython.core.display.HTML object>"
      ]
     },
     "metadata": {},
     "output_type": "display_data"
    },
    {
     "data": {
      "text/html": [],
      "text/plain": [
       "<IPython.core.display.HTML object>"
      ]
     },
     "metadata": {},
     "output_type": "display_data"
    }
   ],
   "source": [
    "preds, targs = learn.get_preds()\n",
    "preds = preds.squeeze(1)"
   ]
  },
  {
   "cell_type": "code",
   "execution_count": 18,
   "id": "93388419",
   "metadata": {
    "execution": {
     "iopub.execute_input": "2024-05-20T11:48:03.704673Z",
     "iopub.status.busy": "2024-05-20T11:48:03.704263Z",
     "iopub.status.idle": "2024-05-20T11:48:03.713855Z",
     "shell.execute_reply": "2024-05-20T11:48:03.712634Z"
    },
    "papermill": {
     "duration": 0.025873,
     "end_time": "2024-05-20T11:48:03.716472",
     "exception": false,
     "start_time": "2024-05-20T11:48:03.690599",
     "status": "completed"
    },
    "tags": []
   },
   "outputs": [
    {
     "data": {
      "text/plain": [
       "TensorBase(0.4625)"
      ]
     },
     "execution_count": 18,
     "metadata": {},
     "output_type": "execute_result"
    }
   ],
   "source": [
    "rmse(preds, targs)"
   ]
  },
  {
   "cell_type": "code",
   "execution_count": 19,
   "id": "df269c56",
   "metadata": {
    "execution": {
     "iopub.execute_input": "2024-05-20T11:48:03.744479Z",
     "iopub.status.busy": "2024-05-20T11:48:03.744043Z",
     "iopub.status.idle": "2024-05-20T11:48:03.752233Z",
     "shell.execute_reply": "2024-05-20T11:48:03.751170Z"
    },
    "papermill": {
     "duration": 0.025191,
     "end_time": "2024-05-20T11:48:03.755036",
     "exception": false,
     "start_time": "2024-05-20T11:48:03.729845",
     "status": "completed"
    },
    "tags": []
   },
   "outputs": [],
   "source": [
    "test = pd.read_csv(path/'diabetes.csv')"
   ]
  },
  {
   "cell_type": "code",
   "execution_count": 20,
   "id": "5164e5c9",
   "metadata": {
    "execution": {
     "iopub.execute_input": "2024-05-20T11:48:03.782056Z",
     "iopub.status.busy": "2024-05-20T11:48:03.781641Z",
     "iopub.status.idle": "2024-05-20T11:48:03.797603Z",
     "shell.execute_reply": "2024-05-20T11:48:03.796568Z"
    },
    "papermill": {
     "duration": 0.032241,
     "end_time": "2024-05-20T11:48:03.800091",
     "exception": false,
     "start_time": "2024-05-20T11:48:03.767850",
     "status": "completed"
    },
    "tags": []
   },
   "outputs": [],
   "source": [
    "test_dl = dls.test_dl(test)"
   ]
  },
  {
   "cell_type": "code",
   "execution_count": 21,
   "id": "cf33b33b",
   "metadata": {
    "execution": {
     "iopub.execute_input": "2024-05-20T11:48:03.827860Z",
     "iopub.status.busy": "2024-05-20T11:48:03.827457Z",
     "iopub.status.idle": "2024-05-20T11:48:03.913092Z",
     "shell.execute_reply": "2024-05-20T11:48:03.911925Z"
    },
    "papermill": {
     "duration": 0.102511,
     "end_time": "2024-05-20T11:48:03.915623",
     "exception": false,
     "start_time": "2024-05-20T11:48:03.813112",
     "status": "completed"
    },
    "tags": []
   },
   "outputs": [
    {
     "data": {
      "text/html": [
       "\n",
       "<style>\n",
       "    /* Turns off some styling */\n",
       "    progress {\n",
       "        /* gets rid of default border in Firefox and Opera. */\n",
       "        border: none;\n",
       "        /* Needs to be in here for Safari polyfill so background images work as expected. */\n",
       "        background-size: auto;\n",
       "    }\n",
       "    progress:not([value]), progress:not([value])::-webkit-progress-bar {\n",
       "        background: repeating-linear-gradient(45deg, #7e7e7e, #7e7e7e 10px, #5c5c5c 10px, #5c5c5c 20px);\n",
       "    }\n",
       "    .progress-bar-interrupted, .progress-bar-interrupted::-webkit-progress-bar {\n",
       "        background: #F44336;\n",
       "    }\n",
       "</style>\n"
      ],
      "text/plain": [
       "<IPython.core.display.HTML object>"
      ]
     },
     "metadata": {},
     "output_type": "display_data"
    },
    {
     "data": {
      "text/html": [],
      "text/plain": [
       "<IPython.core.display.HTML object>"
      ]
     },
     "metadata": {},
     "output_type": "display_data"
    }
   ],
   "source": [
    "preds, _ = learn.get_preds(dl=test_dl)\n",
    "preds = preds.squeeze(1)"
   ]
  },
  {
   "cell_type": "code",
   "execution_count": 22,
   "id": "2b7f5569",
   "metadata": {
    "execution": {
     "iopub.execute_input": "2024-05-20T11:48:03.943979Z",
     "iopub.status.busy": "2024-05-20T11:48:03.943546Z",
     "iopub.status.idle": "2024-05-20T11:48:03.965135Z",
     "shell.execute_reply": "2024-05-20T11:48:03.963898Z"
    },
    "papermill": {
     "duration": 0.039061,
     "end_time": "2024-05-20T11:48:03.967919",
     "exception": false,
     "start_time": "2024-05-20T11:48:03.928858",
     "status": "completed"
    },
    "tags": []
   },
   "outputs": [
    {
     "data": {
      "text/html": [
       "<div>\n",
       "<style scoped>\n",
       "    .dataframe tbody tr th:only-of-type {\n",
       "        vertical-align: middle;\n",
       "    }\n",
       "\n",
       "    .dataframe tbody tr th {\n",
       "        vertical-align: top;\n",
       "    }\n",
       "\n",
       "    .dataframe thead th {\n",
       "        text-align: right;\n",
       "    }\n",
       "</style>\n",
       "<table border=\"1\" class=\"dataframe\">\n",
       "  <thead>\n",
       "    <tr style=\"text-align: right;\">\n",
       "      <th></th>\n",
       "      <th>Pregnancies</th>\n",
       "      <th>Glucose</th>\n",
       "      <th>BloodPressure</th>\n",
       "      <th>SkinThickness</th>\n",
       "      <th>Insulin</th>\n",
       "      <th>BMI</th>\n",
       "      <th>DiabetesPedigreeFunction</th>\n",
       "      <th>Age</th>\n",
       "      <th>Outcome</th>\n",
       "    </tr>\n",
       "  </thead>\n",
       "  <tbody>\n",
       "    <tr>\n",
       "      <th>0</th>\n",
       "      <td>6</td>\n",
       "      <td>148</td>\n",
       "      <td>72</td>\n",
       "      <td>35</td>\n",
       "      <td>0</td>\n",
       "      <td>33.6</td>\n",
       "      <td>0.627</td>\n",
       "      <td>50</td>\n",
       "      <td>1.028913</td>\n",
       "    </tr>\n",
       "    <tr>\n",
       "      <th>1</th>\n",
       "      <td>1</td>\n",
       "      <td>85</td>\n",
       "      <td>66</td>\n",
       "      <td>29</td>\n",
       "      <td>0</td>\n",
       "      <td>26.6</td>\n",
       "      <td>0.351</td>\n",
       "      <td>31</td>\n",
       "      <td>0.235088</td>\n",
       "    </tr>\n",
       "    <tr>\n",
       "      <th>2</th>\n",
       "      <td>8</td>\n",
       "      <td>183</td>\n",
       "      <td>64</td>\n",
       "      <td>0</td>\n",
       "      <td>0</td>\n",
       "      <td>23.3</td>\n",
       "      <td>0.672</td>\n",
       "      <td>32</td>\n",
       "      <td>1.174040</td>\n",
       "    </tr>\n",
       "    <tr>\n",
       "      <th>3</th>\n",
       "      <td>1</td>\n",
       "      <td>89</td>\n",
       "      <td>66</td>\n",
       "      <td>23</td>\n",
       "      <td>94</td>\n",
       "      <td>28.1</td>\n",
       "      <td>0.167</td>\n",
       "      <td>21</td>\n",
       "      <td>0.160332</td>\n",
       "    </tr>\n",
       "    <tr>\n",
       "      <th>4</th>\n",
       "      <td>0</td>\n",
       "      <td>137</td>\n",
       "      <td>40</td>\n",
       "      <td>35</td>\n",
       "      <td>168</td>\n",
       "      <td>43.1</td>\n",
       "      <td>2.288</td>\n",
       "      <td>33</td>\n",
       "      <td>1.199171</td>\n",
       "    </tr>\n",
       "  </tbody>\n",
       "</table>\n",
       "</div>"
      ],
      "text/plain": [
       "   Pregnancies  Glucose  BloodPressure  SkinThickness  Insulin   BMI  \\\n",
       "0            6      148             72             35        0  33.6   \n",
       "1            1       85             66             29        0  26.6   \n",
       "2            8      183             64              0        0  23.3   \n",
       "3            1       89             66             23       94  28.1   \n",
       "4            0      137             40             35      168  43.1   \n",
       "\n",
       "   DiabetesPedigreeFunction  Age   Outcome  \n",
       "0                     0.627   50  1.028913  \n",
       "1                     0.351   31  0.235088  \n",
       "2                     0.672   32  1.174040  \n",
       "3                     0.167   21  0.160332  \n",
       "4                     2.288   33  1.199171  "
      ]
     },
     "execution_count": 22,
     "metadata": {},
     "output_type": "execute_result"
    }
   ],
   "source": [
    "\n",
    "\n",
    "\n",
    "submit = pd.read_csv(path/'diabetes.csv')\n",
    "\n",
    "submit['Outcome'] = preds\n",
    "\n",
    "\n",
    "submit.head()\n"
   ]
  },
  {
   "cell_type": "code",
   "execution_count": 23,
   "id": "bedc596e",
   "metadata": {
    "execution": {
     "iopub.execute_input": "2024-05-20T11:48:03.997218Z",
     "iopub.status.busy": "2024-05-20T11:48:03.996809Z",
     "iopub.status.idle": "2024-05-20T11:48:04.010517Z",
     "shell.execute_reply": "2024-05-20T11:48:04.009466Z"
    },
    "papermill": {
     "duration": 0.031315,
     "end_time": "2024-05-20T11:48:04.013250",
     "exception": false,
     "start_time": "2024-05-20T11:48:03.981935",
     "status": "completed"
    },
    "tags": []
   },
   "outputs": [],
   "source": [
    "submit.to_csv('predictions.csv', index=False)"
   ]
  },
  {
   "cell_type": "code",
   "execution_count": 24,
   "id": "49f5f1dd",
   "metadata": {
    "execution": {
     "iopub.execute_input": "2024-05-20T11:48:04.044372Z",
     "iopub.status.busy": "2024-05-20T11:48:04.043103Z",
     "iopub.status.idle": "2024-05-20T11:48:04.065947Z",
     "shell.execute_reply": "2024-05-20T11:48:04.064602Z"
    },
    "papermill": {
     "duration": 0.040334,
     "end_time": "2024-05-20T11:48:04.068611",
     "exception": false,
     "start_time": "2024-05-20T11:48:04.028277",
     "status": "completed"
    },
    "tags": []
   },
   "outputs": [],
   "source": [
    "learn.export('model.pkl')"
   ]
  }
 ],
 "metadata": {
  "kaggle": {
   "accelerator": "none",
   "dataSources": [
    {
     "datasetId": 228,
     "sourceId": 482,
     "sourceType": "datasetVersion"
    }
   ],
   "dockerImageVersionId": 30698,
   "isGpuEnabled": false,
   "isInternetEnabled": true,
   "language": "python",
   "sourceType": "notebook"
  },
  "kernelspec": {
   "display_name": "Python 3",
   "language": "python",
   "name": "python3"
  },
  "language_info": {
   "codemirror_mode": {
    "name": "ipython",
    "version": 3
   },
   "file_extension": ".py",
   "mimetype": "text/x-python",
   "name": "python",
   "nbconvert_exporter": "python",
   "pygments_lexer": "ipython3",
   "version": "3.10.13"
  },
  "papermill": {
   "default_parameters": {},
   "duration": 18.453355,
   "end_time": "2024-05-20T11:48:05.305771",
   "environment_variables": {},
   "exception": null,
   "input_path": "__notebook__.ipynb",
   "output_path": "__notebook__.ipynb",
   "parameters": {},
   "start_time": "2024-05-20T11:47:46.852416",
   "version": "2.5.0"
  }
 },
 "nbformat": 4,
 "nbformat_minor": 5
}
